{
  "nbformat": 4,
  "nbformat_minor": 0,
  "metadata": {
    "colab": {
      "provenance": [],
      "authorship_tag": "ABX9TyOUj8r2s4tLX/7bDDKECCpl",
      "include_colab_link": true
    },
    "kernelspec": {
      "name": "ir",
      "display_name": "R"
    },
    "language_info": {
      "name": "R"
    }
  },
  "cells": [
    {
      "cell_type": "markdown",
      "metadata": {
        "id": "view-in-github",
        "colab_type": "text"
      },
      "source": [
        "<a href=\"https://colab.research.google.com/github/emrekayik/r-istatistiksel-programlama-dili-notlari/blob/main/1_hafta_odev.ipynb\" target=\"_parent\"><img src=\"https://colab.research.google.com/assets/colab-badge.svg\" alt=\"Open In Colab\"/></a>"
      ]
    },
    {
      "cell_type": "markdown",
      "source": [
        "# Soru 1 - R dışındaki bilimsel araştırmalara yöneli beik temelli diller:\n",
        "\n",
        "- Python\n",
        "- Julia\n",
        "- MATLAB"
      ],
      "metadata": {
        "id": "QiYRZmxXUfzB"
      }
    },
    {
      "cell_type": "markdown",
      "source": [
        "# Soru 2 - R konsolunda işlemleri tanımlayalım ve işlem sonuçlarını göremeye çalışalım:"
      ],
      "metadata": {
        "id": "x3QSo5RDU0_B"
      }
    },
    {
      "cell_type": "code",
      "execution_count": null,
      "metadata": {
        "colab": {
          "base_uri": "https://localhost:8080/"
        },
        "id": "xOb_DN4kUfIK",
        "outputId": "02a15dd5-de82-4c95-befa-eb3816ba766a"
      },
      "outputs": [
        {
          "output_type": "stream",
          "name": "stdout",
          "text": [
            "[1] 200\n",
            "[1] 12\n",
            "[1] 0.7608696\n",
            "[1] 0.03125\n"
          ]
        }
      ],
      "source": [
        "print(5*(25+15))\n",
        "print(3/0.25)\n",
        "print((11+24)/46)\n",
        "print(1/(2+30))"
      ]
    },
    {
      "cell_type": "markdown",
      "source": [
        "# Soru 3 - Mevcut `test` isimli bir nesneyi silmek için:"
      ],
      "metadata": {
        "id": "swTaFXDZVHp7"
      }
    },
    {
      "cell_type": "code",
      "source": [
        "test = \"test\"\n",
        "rm(test)\n",
        "test"
      ],
      "metadata": {
        "colab": {
          "base_uri": "https://localhost:8080/",
          "height": 72
        },
        "id": "ZvLaWRZsVG2E",
        "outputId": "4a726aef-0c02-4c47-e8df-b7dfbc47e662"
      },
      "execution_count": null,
      "outputs": [
        {
          "output_type": "error",
          "ename": "ERROR",
          "evalue": "Error: object 'test' not found\n",
          "traceback": [
            "Error: object 'test' not found\nTraceback:\n"
          ]
        }
      ]
    },
    {
      "cell_type": "markdown",
      "source": [
        "# Soru 4 - Bir `x` nesne değişkenine 25 sayısal değerini aadıktan sonra işlem yapalım:"
      ],
      "metadata": {
        "id": "WPZeIT7taBMu"
      }
    },
    {
      "cell_type": "code",
      "source": [
        "x <- 25\n"
      ],
      "metadata": {
        "id": "EaRBA0bgX4TA"
      },
      "execution_count": null,
      "outputs": []
    }
  ]
}