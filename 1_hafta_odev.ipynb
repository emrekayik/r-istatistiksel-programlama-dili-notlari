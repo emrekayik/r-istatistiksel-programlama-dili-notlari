{
  "nbformat": 4,
  "nbformat_minor": 0,
  "metadata": {
    "colab": {
      "provenance": [],
      "authorship_tag": "ABX9TyMVrx3/QXqzCT2iHSJOVbeF",
      "include_colab_link": true
    },
    "kernelspec": {
      "name": "ir",
      "display_name": "R"
    },
    "language_info": {
      "name": "R"
    }
  },
  "cells": [
    {
      "cell_type": "markdown",
      "metadata": {
        "id": "view-in-github",
        "colab_type": "text"
      },
      "source": [
        "<a href=\"https://colab.research.google.com/github/emrekayik/r-istatistiksel-programlama-dili-notlari/blob/main/1_hafta_odev.ipynb\" target=\"_parent\"><img src=\"https://colab.research.google.com/assets/colab-badge.svg\" alt=\"Open In Colab\"/></a>"
      ]
    },
    {
      "cell_type": "markdown",
      "source": [
        "# Soru 1 - R dışındaki bilimsel araştırmalara yöneli betik temelli diller:\n",
        "\n",
        "- Python\n",
        "- Julia\n",
        "- MATLAB"
      ],
      "metadata": {
        "id": "QiYRZmxXUfzB"
      }
    },
    {
      "cell_type": "markdown",
      "source": [
        "# Soru 2 - R konsolunda işlemleri tanımlayalım ve işlem sonuçlarını göremeye çalışalım:"
      ],
      "metadata": {
        "id": "x3QSo5RDU0_B"
      }
    },
    {
      "cell_type": "code",
      "execution_count": 1,
      "metadata": {
        "colab": {
          "base_uri": "https://localhost:8080/"
        },
        "id": "xOb_DN4kUfIK",
        "outputId": "53eb4f27-b7c3-41b2-e7fe-634bea543819"
      },
      "outputs": [
        {
          "output_type": "stream",
          "name": "stdout",
          "text": [
            "[1] 200\n",
            "[1] 12\n",
            "[1] 0.7608696\n",
            "[1] 0.03125\n"
          ]
        }
      ],
      "source": [
        "print(5*(25+15))\n",
        "print(3/0.25)\n",
        "print((11+24)/46)\n",
        "print(1/(2+30))"
      ]
    },
    {
      "cell_type": "markdown",
      "source": [
        "# Soru 3 - Mevcut `test` isimli bir nesneyi silmek için:"
      ],
      "metadata": {
        "id": "swTaFXDZVHp7"
      }
    },
    {
      "cell_type": "code",
      "source": [
        "test = \"test\"\n",
        "rm(test)\n",
        "test"
      ],
      "metadata": {
        "colab": {
          "base_uri": "https://localhost:8080/",
          "height": 72
        },
        "id": "ZvLaWRZsVG2E",
        "outputId": "c2448a18-76bd-4684-9bc5-d6c44615c303"
      },
      "execution_count": 2,
      "outputs": [
        {
          "output_type": "error",
          "ename": "ERROR",
          "evalue": "Error: object 'test' not found\n",
          "traceback": [
            "Error: object 'test' not found\nTraceback:\n"
          ]
        }
      ]
    },
    {
      "cell_type": "markdown",
      "source": [
        "# Soru 4 - Bir `x` nesne değişkenine 25 sayısal değerini atadıktan sonra işlem yapalım:"
      ],
      "metadata": {
        "id": "WPZeIT7taBMu"
      }
    },
    {
      "cell_type": "code",
      "source": [
        "x <- 25\n",
        "print(2 * x + 1)\n",
        "print(x^2 + x + 1)\n",
        "print((x - 1) / x^3)\n",
        "print((x + 1)^2)"
      ],
      "metadata": {
        "id": "EaRBA0bgX4TA",
        "colab": {
          "base_uri": "https://localhost:8080/"
        },
        "outputId": "af1f4c92-d3d2-4d3c-9db5-984d1df15ad5"
      },
      "execution_count": 3,
      "outputs": [
        {
          "output_type": "stream",
          "name": "stdout",
          "text": [
            "[1] 51\n",
            "[1] 651\n",
            "[1] 0.001536\n",
            "[1] 676\n"
          ]
        }
      ]
    },
    {
      "cell_type": "markdown",
      "source": [
        "# Soru 5 - Aşağıdaki işlem sonucunda ne elde edilir?"
      ],
      "metadata": {
        "id": "Lu__GkwUefGp"
      }
    },
    {
      "cell_type": "code",
      "source": [
        "durum <- TRUE\n",
        "as.integer(durum)"
      ],
      "metadata": {
        "colab": {
          "base_uri": "https://localhost:8080/",
          "height": 34
        },
        "id": "xOVJhv0Uektx",
        "outputId": "9e062846-137c-4e6b-e8d4-fa69ce2cd089"
      },
      "execution_count": 6,
      "outputs": [
        {
          "output_type": "display_data",
          "data": {
            "text/html": [
              "1"
            ],
            "text/markdown": "1",
            "text/latex": "1",
            "text/plain": [
              "[1] 1"
            ]
          },
          "metadata": {}
        }
      ]
    },
    {
      "cell_type": "markdown",
      "source": [
        "# Soru 6 - R'nin `iris` isimli veri kümesinin ilk altı satırını görünüleyin. Bu veri kümesi hangi değişkenlere sahiptir?"
      ],
      "metadata": {
        "id": "5z12Ow12erPK"
      }
    },
    {
      "cell_type": "code",
      "source": [
        "data(iris)\n",
        "print(head(iris, 6))"
      ],
      "metadata": {
        "colab": {
          "base_uri": "https://localhost:8080/"
        },
        "id": "EWAV2iVVeoab",
        "outputId": "078b3141-8100-4c1f-e4d2-3f6681d24c7e"
      },
      "execution_count": 16,
      "outputs": [
        {
          "output_type": "stream",
          "name": "stdout",
          "text": [
            "  Sepal.Length Sepal.Width Petal.Length Petal.Width Species\n",
            "1          5.1         3.5          1.4         0.2  setosa\n",
            "2          4.9         3.0          1.4         0.2  setosa\n",
            "3          4.7         3.2          1.3         0.2  setosa\n",
            "4          4.6         3.1          1.5         0.2  setosa\n",
            "5          5.0         3.6          1.4         0.2  setosa\n",
            "6          5.4         3.9          1.7         0.4  setosa\n"
          ]
        }
      ]
    },
    {
      "cell_type": "markdown",
      "source": [],
      "metadata": {
        "id": "x7lI-IgXhSyG"
      }
    }
  ]
}