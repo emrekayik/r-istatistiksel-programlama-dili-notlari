{
  "nbformat": 4,
  "nbformat_minor": 0,
  "metadata": {
    "colab": {
      "provenance": [],
      "authorship_tag": "ABX9TyO4PMCqkfO35NJ4ItbESi42",
      "include_colab_link": true
    },
    "kernelspec": {
      "name": "ir",
      "display_name": "R"
    },
    "language_info": {
      "name": "R"
    }
  },
  "cells": [
    {
      "cell_type": "markdown",
      "metadata": {
        "id": "view-in-github",
        "colab_type": "text"
      },
      "source": [
        "<a href=\"https://colab.research.google.com/github/emrekayik/r-istatistiksel-programlama-dili-notlari/blob/main/1_hafta_odev.ipynb\" target=\"_parent\"><img src=\"https://colab.research.google.com/assets/colab-badge.svg\" alt=\"Open In Colab\"/></a>"
      ]
    },
    {
      "cell_type": "markdown",
      "source": [
        "# Soru 1 - R dışındaki bilimsel araştırmalara yöneli betik temelli diller:\n",
        "\n",
        "- Python\n",
        "- Julia\n",
        "- MATLAB"
      ],
      "metadata": {
        "id": "QiYRZmxXUfzB"
      }
    },
    {
      "cell_type": "markdown",
      "source": [
        "# Soru 2 - R konsolunda işlemleri tanımlayalım ve işlem sonuçlarını göremeye çalışalım:"
      ],
      "metadata": {
        "id": "x3QSo5RDU0_B"
      }
    },
    {
      "cell_type": "code",
      "execution_count": null,
      "metadata": {
        "colab": {
          "base_uri": "https://localhost:8080/"
        },
        "id": "xOb_DN4kUfIK",
        "outputId": "53eb4f27-b7c3-41b2-e7fe-634bea543819"
      },
      "outputs": [
        {
          "output_type": "stream",
          "name": "stdout",
          "text": [
            "[1] 200\n",
            "[1] 12\n",
            "[1] 0.7608696\n",
            "[1] 0.03125\n"
          ]
        }
      ],
      "source": [
        "print(5*(25+15))\n",
        "print(3/0.25)\n",
        "print((11+24)/46)\n",
        "print(1/(2+30))"
      ]
    },
    {
      "cell_type": "markdown",
      "source": [
        "# Soru 3 - Mevcut `test` isimli bir nesneyi silmek için:"
      ],
      "metadata": {
        "id": "swTaFXDZVHp7"
      }
    },
    {
      "cell_type": "code",
      "source": [
        "test = \"test\"\n",
        "rm(test)\n",
        "test"
      ],
      "metadata": {
        "colab": {
          "base_uri": "https://localhost:8080/",
          "height": 72
        },
        "id": "ZvLaWRZsVG2E",
        "outputId": "c2448a18-76bd-4684-9bc5-d6c44615c303"
      },
      "execution_count": null,
      "outputs": [
        {
          "output_type": "error",
          "ename": "ERROR",
          "evalue": "Error: object 'test' not found\n",
          "traceback": [
            "Error: object 'test' not found\nTraceback:\n"
          ]
        }
      ]
    },
    {
      "cell_type": "markdown",
      "source": [
        "# Soru 4 - Bir `x` nesne değişkenine 25 sayısal değerini atadıktan sonra işlem yapalım:"
      ],
      "metadata": {
        "id": "WPZeIT7taBMu"
      }
    },
    {
      "cell_type": "code",
      "source": [
        "x <- 25\n",
        "print(2 * x + 1)\n",
        "print(x^2 + x + 1)\n",
        "print((x - 1) / x^3)\n",
        "print((x + 1)^2)"
      ],
      "metadata": {
        "id": "EaRBA0bgX4TA",
        "colab": {
          "base_uri": "https://localhost:8080/"
        },
        "outputId": "af1f4c92-d3d2-4d3c-9db5-984d1df15ad5"
      },
      "execution_count": null,
      "outputs": [
        {
          "output_type": "stream",
          "name": "stdout",
          "text": [
            "[1] 51\n",
            "[1] 651\n",
            "[1] 0.001536\n",
            "[1] 676\n"
          ]
        }
      ]
    },
    {
      "cell_type": "markdown",
      "source": [
        "# Soru 5 - Aşağıdaki işlem sonucunda ne elde edilir?"
      ],
      "metadata": {
        "id": "Lu__GkwUefGp"
      }
    },
    {
      "cell_type": "code",
      "source": [
        "durum <- TRUE\n",
        "as.integer(durum)"
      ],
      "metadata": {
        "colab": {
          "base_uri": "https://localhost:8080/",
          "height": 34
        },
        "id": "xOVJhv0Uektx",
        "outputId": "9e062846-137c-4e6b-e8d4-fa69ce2cd089"
      },
      "execution_count": null,
      "outputs": [
        {
          "output_type": "display_data",
          "data": {
            "text/html": [
              "1"
            ],
            "text/markdown": "1",
            "text/latex": "1",
            "text/plain": [
              "[1] 1"
            ]
          },
          "metadata": {}
        }
      ]
    },
    {
      "cell_type": "markdown",
      "source": [
        "# Soru 6 - R'nin `iris` isimli veri kümesinin ilk altı satırını görünüleyin. Bu veri kümesi hangi değişkenlere sahiptir?"
      ],
      "metadata": {
        "id": "5z12Ow12erPK"
      }
    },
    {
      "cell_type": "code",
      "source": [
        "data(iris)\n",
        "print(head(iris, 6))"
      ],
      "metadata": {
        "colab": {
          "base_uri": "https://localhost:8080/"
        },
        "id": "EWAV2iVVeoab",
        "outputId": "078b3141-8100-4c1f-e4d2-3f6681d24c7e"
      },
      "execution_count": null,
      "outputs": [
        {
          "output_type": "stream",
          "name": "stdout",
          "text": [
            "  Sepal.Length Sepal.Width Petal.Length Petal.Width Species\n",
            "1          5.1         3.5          1.4         0.2  setosa\n",
            "2          4.9         3.0          1.4         0.2  setosa\n",
            "3          4.7         3.2          1.3         0.2  setosa\n",
            "4          4.6         3.1          1.5         0.2  setosa\n",
            "5          5.0         3.6          1.4         0.2  setosa\n",
            "6          5.4         3.9          1.7         0.4  setosa\n"
          ]
        }
      ]
    },
    {
      "cell_type": "markdown",
      "source": [
        "# Soru 7 - R'nin biyokimyasal oksijen talebini konu edinen ˋBODˋ isimli veri kümesinin tüm satılarını görüntüleyiniz. Bu veri kümesi hangi degiskenlere sahiptir?\n",
        "\n"
      ],
      "metadata": {
        "id": "b0WbjISPmPCz"
      }
    },
    {
      "cell_type": "code",
      "source": [
        "data(\"BOD\")\n",
        "# veri seti\n",
        "print(BOD)\n",
        "# Veri setinin değişken isimleri\n",
        "print(names(BOD))"
      ],
      "metadata": {
        "colab": {
          "base_uri": "https://localhost:8080/"
        },
        "id": "5EXBDu1Vcunq",
        "outputId": "9fe247e3-f540-469e-8358-40facf00451b"
      },
      "execution_count": null,
      "outputs": [
        {
          "output_type": "stream",
          "name": "stdout",
          "text": [
            "  Time demand\n",
            "1    1    8.3\n",
            "2    2   10.3\n",
            "3    3   19.0\n",
            "4    4   16.0\n",
            "5    5   15.6\n",
            "6    7   19.8\n",
            "[1] \"\\nDeğişkenler: \"\n",
            "[1] \"Time\"   \"demand\"\n"
          ]
        }
      ]
    },
    {
      "cell_type": "markdown",
      "source": [
        "# Soru 8 - R'nin `iris` isimli veri kümesi kaç adet satır ve sütundan oluşmaktadır. R fonksiyonları yardımıyla görüntüleyiniz."
      ],
      "metadata": {
        "id": "DTujCGGldN7g"
      }
    },
    {
      "cell_type": "code",
      "source": [
        "# iris data setini yükleme\n",
        "data(iris)\n",
        "\n",
        "# Satır ve sütun sayısını öğrenmek için dim fonksiyonu kullanılır\n",
        "dim(iris)\n",
        "# Ayrıca nrow() ve ncol() fonksiyonlarını kullanarak ayrı ayrı öğrenebiliriz.\n",
        "nrow(iris)\n",
        "ncol(iris)"
      ],
      "metadata": {
        "colab": {
          "base_uri": "https://localhost:8080/",
          "height": 89
        },
        "id": "SvXvETd1gRa2",
        "outputId": "38457dcc-f60a-42b6-fa7e-cc0027705311"
      },
      "execution_count": 15,
      "outputs": [
        {
          "output_type": "display_data",
          "data": {
            "text/html": [
              "<style>\n",
              ".list-inline {list-style: none; margin:0; padding: 0}\n",
              ".list-inline>li {display: inline-block}\n",
              ".list-inline>li:not(:last-child)::after {content: \"\\00b7\"; padding: 0 .5ex}\n",
              "</style>\n",
              "<ol class=list-inline><li>150</li><li>5</li></ol>\n"
            ],
            "text/markdown": "1. 150\n2. 5\n\n\n",
            "text/latex": "\\begin{enumerate*}\n\\item 150\n\\item 5\n\\end{enumerate*}\n",
            "text/plain": [
              "[1] 150   5"
            ]
          },
          "metadata": {}
        },
        {
          "output_type": "display_data",
          "data": {
            "text/html": [
              "150"
            ],
            "text/markdown": "150",
            "text/latex": "150",
            "text/plain": [
              "[1] 150"
            ]
          },
          "metadata": {}
        },
        {
          "output_type": "display_data",
          "data": {
            "text/html": [
              "5"
            ],
            "text/markdown": "5",
            "text/latex": "5",
            "text/plain": [
              "[1] 5"
            ]
          },
          "metadata": {}
        }
      ]
    },
    {
      "cell_type": "markdown",
      "source": [
        "# Soru 9 - Bir veri kümesi hakkında özet bilgi nasıl elde edilir. `BOD` isimli veri kümesi hakkında özet bilgiyi görüntüleyiniz?"
      ],
      "metadata": {
        "id": "q-TGhqlQhU3_"
      }
    },
    {
      "cell_type": "code",
      "source": [
        "data(\"BOD\")\n",
        "# veri kümesi hakkında özet bilgi için str fonksiyonu kullanılır\n",
        "str(BOD)"
      ],
      "metadata": {
        "colab": {
          "base_uri": "https://localhost:8080/"
        },
        "id": "YcUu0AOmhUBD",
        "outputId": "0862fdfb-58e4-4617-bf3a-b33e56ec95d9"
      },
      "execution_count": 17,
      "outputs": [
        {
          "output_type": "stream",
          "name": "stdout",
          "text": [
            "'data.frame':\t6 obs. of  2 variables:\n",
            " $ Time  : num  1 2 3 4 5 7\n",
            " $ demand: num  8.3 10.3 19 16 15.6 19.8\n",
            " - attr(*, \"reference\")= chr \"A1.4, p. 270\"\n"
          ]
        }
      ]
    },
    {
      "cell_type": "markdown",
      "source": [
        "# Soru 10 - Bilgisayarınıza kitabın son bölümünde kullanılacak olan `cluster` isimli R paketini yükleyiniz."
      ],
      "metadata": {
        "id": "ypXkd8BbiLLj"
      }
    },
    {
      "cell_type": "markdown",
      "source": [
        "# Soru 11 - Bir paket yükledikten sonra R oturumuna nasıl tanıtılır? R'nin kendi yerel veri kümeleri için de bu yol izlenir mi?\n",
        "\n",
        "R dilinde paketleri yüklemek için install.packages() fonksiyonu kullanılır\n",
        "\n",
        "> install.packages(\"cluster\")\n",
        "\n",
        "mesela yukarıdaki fonksiyonu kullanarak `cluster` isimli paketi kurabiliriz.\n",
        "\n",
        "Aktif hale getirmek için de\n",
        "\n",
        "> library(cluster)\n",
        "\n",
        "Şeklinde bir fonksiyon kullanabiliriz.\n",
        "\n",
        "R'nin kendi yerel veri kümeleri için bu yola ihtiyaç yoktur."
      ],
      "metadata": {
        "id": "LrbFWclyiWxI"
      }
    },
    {
      "cell_type": "code",
      "source": [],
      "metadata": {
        "id": "5HX9JfuKh5wN"
      },
      "execution_count": null,
      "outputs": []
    }
  ]
}