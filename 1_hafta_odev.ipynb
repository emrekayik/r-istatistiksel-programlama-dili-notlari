{
  "nbformat": 4,
  "nbformat_minor": 0,
  "metadata": {
    "colab": {
      "provenance": [],
      "authorship_tag": "ABX9TyMvhDu/FugwCIEEwS1y2mHB",
      "include_colab_link": true
    },
    "kernelspec": {
      "name": "ir",
      "display_name": "R"
    },
    "language_info": {
      "name": "R"
    }
  },
  "cells": [
    {
      "cell_type": "markdown",
      "metadata": {
        "id": "view-in-github",
        "colab_type": "text"
      },
      "source": [
        "<a href=\"https://colab.research.google.com/github/emrekayik/r-istatistiksel-programlama-dili-notlari/blob/main/1_hafta_odev.ipynb\" target=\"_parent\"><img src=\"https://colab.research.google.com/assets/colab-badge.svg\" alt=\"Open In Colab\"/></a>"
      ]
    },
    {
      "cell_type": "markdown",
      "source": [
        "# Soru 1 - R dışındaki bilimsel araştırmalara yöneli betik temelli diller:\n",
        "\n",
        "- Python\n",
        "- Julia\n",
        "- MATLAB"
      ],
      "metadata": {
        "id": "QiYRZmxXUfzB"
      }
    },
    {
      "cell_type": "markdown",
      "source": [
        "# Soru 2 - R konsolunda işlemleri tanımlayalım ve işlem sonuçlarını göremeye çalışalım:"
      ],
      "metadata": {
        "id": "x3QSo5RDU0_B"
      }
    },
    {
      "cell_type": "code",
      "execution_count": 26,
      "metadata": {
        "colab": {
          "base_uri": "https://localhost:8080/"
        },
        "id": "xOb_DN4kUfIK",
        "outputId": "2c0d6dab-9a9a-4b2e-ffe3-4579e87ab12e"
      },
      "outputs": [
        {
          "output_type": "stream",
          "name": "stdout",
          "text": [
            "[1] 200\n",
            "[1] 12\n",
            "[1] 0.7608696\n",
            "[1] 0.03125\n"
          ]
        }
      ],
      "source": [
        "print(5*(25+15))\n",
        "print(3/0.25)\n",
        "print((11+24)/46)\n",
        "print(1/(2+30))"
      ]
    },
    {
      "cell_type": "markdown",
      "source": [
        "# Soru 3 - Mevcut `test` isimli bir nesneyi silmek için:"
      ],
      "metadata": {
        "id": "swTaFXDZVHp7"
      }
    },
    {
      "cell_type": "code",
      "source": [
        "test = \"test\"\n",
        "rm(test)"
      ],
      "metadata": {
        "id": "ZvLaWRZsVG2E"
      },
      "execution_count": 27,
      "outputs": []
    },
    {
      "cell_type": "markdown",
      "source": [
        "# Soru 4 - Bir `x` nesne değişkenine 25 sayısal değerini atadıktan sonra işlem yapalım:"
      ],
      "metadata": {
        "id": "WPZeIT7taBMu"
      }
    },
    {
      "cell_type": "code",
      "source": [
        "x <- 25\n",
        "print(2 * x + 1)\n",
        "print(x^2 + x + 1)\n",
        "print((x - 1) / x^3)\n",
        "print((x + 1)^2)"
      ],
      "metadata": {
        "id": "EaRBA0bgX4TA",
        "colab": {
          "base_uri": "https://localhost:8080/"
        },
        "outputId": "93a0ee4b-2893-44cb-dbd4-e07836aecf44"
      },
      "execution_count": 28,
      "outputs": [
        {
          "output_type": "stream",
          "name": "stdout",
          "text": [
            "[1] 51\n",
            "[1] 651\n",
            "[1] 0.001536\n",
            "[1] 676\n"
          ]
        }
      ]
    },
    {
      "cell_type": "markdown",
      "source": [
        "# Soru 5 - Aşağıdaki işlem sonucunda ne elde edilir?"
      ],
      "metadata": {
        "id": "Lu__GkwUefGp"
      }
    },
    {
      "cell_type": "code",
      "source": [
        "durum <- TRUE\n",
        "as.integer(durum)"
      ],
      "metadata": {
        "colab": {
          "base_uri": "https://localhost:8080/",
          "height": 34
        },
        "id": "xOVJhv0Uektx",
        "outputId": "22e69dbb-eb2e-47ac-de48-9be5b4441829"
      },
      "execution_count": 29,
      "outputs": [
        {
          "output_type": "display_data",
          "data": {
            "text/html": [
              "1"
            ],
            "text/markdown": "1",
            "text/latex": "1",
            "text/plain": [
              "[1] 1"
            ]
          },
          "metadata": {}
        }
      ]
    },
    {
      "cell_type": "markdown",
      "source": [
        "# Soru 6 - R'nin `iris` isimli veri kümesinin ilk altı satırını görünüleyin. Bu veri kümesi hangi değişkenlere sahiptir?"
      ],
      "metadata": {
        "id": "5z12Ow12erPK"
      }
    },
    {
      "cell_type": "code",
      "source": [
        "data(iris)\n",
        "print(head(iris, 6))"
      ],
      "metadata": {
        "colab": {
          "base_uri": "https://localhost:8080/"
        },
        "id": "EWAV2iVVeoab",
        "outputId": "0b3c1f96-c7ec-43f4-b36c-c5443418948f"
      },
      "execution_count": 30,
      "outputs": [
        {
          "output_type": "stream",
          "name": "stdout",
          "text": [
            "  Sepal.Length Sepal.Width Petal.Length Petal.Width Species\n",
            "1          5.1         3.5          1.4         0.2  setosa\n",
            "2          4.9         3.0          1.4         0.2  setosa\n",
            "3          4.7         3.2          1.3         0.2  setosa\n",
            "4          4.6         3.1          1.5         0.2  setosa\n",
            "5          5.0         3.6          1.4         0.2  setosa\n",
            "6          5.4         3.9          1.7         0.4  setosa\n"
          ]
        }
      ]
    },
    {
      "cell_type": "markdown",
      "source": [
        "# Soru 7 - R'nin biyokimyasal oksijen talebini konu edinen ˋBODˋ isimli veri kümesinin tüm satılarını görüntüleyiniz. Bu veri kümesi hangi degiskenlere sahiptir?\n",
        "\n"
      ],
      "metadata": {
        "id": "b0WbjISPmPCz"
      }
    },
    {
      "cell_type": "code",
      "source": [
        "data(\"BOD\")\n",
        "# veri seti\n",
        "print(BOD)\n",
        "# Veri setinin değişken isimleri\n",
        "print(names(BOD))"
      ],
      "metadata": {
        "colab": {
          "base_uri": "https://localhost:8080/"
        },
        "id": "5EXBDu1Vcunq",
        "outputId": "e21f56af-299f-488a-bc6a-0e0f0eb8a5fe"
      },
      "execution_count": 31,
      "outputs": [
        {
          "output_type": "stream",
          "name": "stdout",
          "text": [
            "  Time demand\n",
            "1    1    8.3\n",
            "2    2   10.3\n",
            "3    3   19.0\n",
            "4    4   16.0\n",
            "5    5   15.6\n",
            "6    7   19.8\n",
            "[1] \"Time\"   \"demand\"\n"
          ]
        }
      ]
    },
    {
      "cell_type": "markdown",
      "source": [
        "# Soru 8 - R'nin `iris` isimli veri kümesi kaç adet satır ve sütundan oluşmaktadır. R fonksiyonları yardımıyla görüntüleyiniz."
      ],
      "metadata": {
        "id": "DTujCGGldN7g"
      }
    },
    {
      "cell_type": "code",
      "source": [
        "# iris data setini yükleme\n",
        "data(iris)\n",
        "\n",
        "# Satır ve sütun sayısını öğrenmek için dim fonksiyonu kullanılır\n",
        "dim(iris)\n",
        "# Ayrıca nrow() ve ncol() fonksiyonlarını kullanarak ayrı ayrı öğrenebiliriz.\n",
        "nrow(iris)\n",
        "ncol(iris)"
      ],
      "metadata": {
        "colab": {
          "base_uri": "https://localhost:8080/",
          "height": 69
        },
        "id": "SvXvETd1gRa2",
        "outputId": "b8223791-b466-42ff-ec7d-2c4830e1bc85"
      },
      "execution_count": 32,
      "outputs": [
        {
          "output_type": "display_data",
          "data": {
            "text/html": [
              "<style>\n",
              ".list-inline {list-style: none; margin:0; padding: 0}\n",
              ".list-inline>li {display: inline-block}\n",
              ".list-inline>li:not(:last-child)::after {content: \"\\00b7\"; padding: 0 .5ex}\n",
              "</style>\n",
              "<ol class=list-inline><li>150</li><li>5</li></ol>\n"
            ],
            "text/markdown": "1. 150\n2. 5\n\n\n",
            "text/latex": "\\begin{enumerate*}\n\\item 150\n\\item 5\n\\end{enumerate*}\n",
            "text/plain": [
              "[1] 150   5"
            ]
          },
          "metadata": {}
        },
        {
          "output_type": "display_data",
          "data": {
            "text/html": [
              "150"
            ],
            "text/markdown": "150",
            "text/latex": "150",
            "text/plain": [
              "[1] 150"
            ]
          },
          "metadata": {}
        },
        {
          "output_type": "display_data",
          "data": {
            "text/html": [
              "5"
            ],
            "text/markdown": "5",
            "text/latex": "5",
            "text/plain": [
              "[1] 5"
            ]
          },
          "metadata": {}
        }
      ]
    },
    {
      "cell_type": "markdown",
      "source": [
        "# Soru 9 - Bir veri kümesi hakkında özet bilgi nasıl elde edilir. `BOD` isimli veri kümesi hakkında özet bilgiyi görüntüleyiniz?"
      ],
      "metadata": {
        "id": "q-TGhqlQhU3_"
      }
    },
    {
      "cell_type": "code",
      "source": [
        "data(\"BOD\")\n",
        "# veri kümesi hakkında özet bilgi için str fonksiyonu kullanılır\n",
        "str(BOD)"
      ],
      "metadata": {
        "colab": {
          "base_uri": "https://localhost:8080/"
        },
        "id": "YcUu0AOmhUBD",
        "outputId": "9773c23a-63a9-4dd1-e622-9b5fb1aa4679"
      },
      "execution_count": 33,
      "outputs": [
        {
          "output_type": "stream",
          "name": "stdout",
          "text": [
            "'data.frame':\t6 obs. of  2 variables:\n",
            " $ Time  : num  1 2 3 4 5 7\n",
            " $ demand: num  8.3 10.3 19 16 15.6 19.8\n",
            " - attr(*, \"reference\")= chr \"A1.4, p. 270\"\n"
          ]
        }
      ]
    },
    {
      "cell_type": "markdown",
      "source": [
        "# Soru 10 - Bilgisayarınıza kitabın son bölümünde kullanılacak olan `cluster` isimli R paketini yükleyiniz."
      ],
      "metadata": {
        "id": "ypXkd8BbiLLj"
      }
    },
    {
      "cell_type": "markdown",
      "source": [
        "# Soru 11 - Bir paket yükledikten sonra R oturumuna nasıl tanıtılır? R'nin kendi yerel veri kümeleri için de bu yol izlenir mi?\n",
        "\n",
        "R dilinde paketleri yüklemek için install.packages() fonksiyonu kullanılır\n",
        "\n",
        "> `install.packages(\"cluster\")`\n",
        "\n",
        "mesela yukarıdaki fonksiyonu kullanarak `cluster` isimli paketi kurabiliriz.\n",
        "\n",
        "Aktif hale getirmek için de\n",
        "\n",
        "> `library(cluster)`\n",
        "\n",
        "Şeklinde bir fonksiyon kullanabiliriz.\n",
        "\n",
        "R'nin kendi yerel veri kümeleri için bu yola ihtiyaç yoktur."
      ],
      "metadata": {
        "id": "LrbFWclyiWxI"
      }
    },
    {
      "cell_type": "markdown",
      "source": [
        "# Soru 12 - R'nin `ls()` fonksiyonu ile ilgili yardım sayfalarına R konsolu üzerinden nasıl ulaşılabilir?\n",
        "\n",
        "R'da herhangi bir fonksiyonun yardım sayfasına ulaşmak için `help()` fonksiyonu kullanılabilir.\n",
        "\n",
        "> `help(ls)`\n",
        "\n",
        "Yukarıdaki fonksiyonu kullanarak `ls()` fonksiyonunun yardım sayfalarına ulaşılabilir. Ayrıca daha kısa bir yol olan\n",
        "\n",
        "> `?ls`\n",
        "\n",
        "fonksiyonu da kullanılabilir."
      ],
      "metadata": {
        "id": "b6eFPQD5jh0p"
      }
    },
    {
      "cell_type": "code",
      "source": [
        "print(help(ls))"
      ],
      "metadata": {
        "colab": {
          "base_uri": "https://localhost:8080/"
        },
        "id": "uEIBqW6hmv6y",
        "outputId": "4f27f178-06cc-465b-ab29-6829de6386ba"
      },
      "execution_count": 34,
      "outputs": [
        {
          "output_type": "stream",
          "name": "stdout",
          "text": [
            "Help on topic ‘ls’ was found in the following packages:\n",
            "\n",
            "  Package               Library\n",
            "  pbdZMQ                /usr/local/lib/R/site-library\n",
            "  base                  /usr/lib/R/library\n",
            "\n",
            "\n",
            "Using the first match ...\n"
          ]
        }
      ]
    },
    {
      "cell_type": "markdown",
      "source": [
        "# Soru 13 - R konsolu üzerinden `e1071` isimli paketin fonksiyonları ile ilgili listeyi içeren yardım sayfaslarına nasıl ulaşılır?\n",
        "\n",
        "> `help(package=\"e1071\")`\n",
        "\n",
        "yukarıdaki fonksiyonu kullanarak `e1071` paketindeki tüm fonksiyonların bir listesini ve kısa açıklamalarını görebiliriz.\n",
        "\n",
        "Ayrıca RStudio kullanıyorsak yukarıdaki menülerde olan Help menüsünden arama çubuğu yardımı ile paketlerin yardım sayfalarına erişebiliriz."
      ],
      "metadata": {
        "id": "aUzNPlT-kbZ6"
      }
    },
    {
      "cell_type": "markdown",
      "source": [
        "# Soru 14 - R konsolu üzerinden `e1071` isimli paketin `svm` fonksiyonuna doğrudan nasıl ulaşılabilir?"
      ],
      "metadata": {
        "id": "oTGfadMrlY5-"
      }
    },
    {
      "cell_type": "code",
      "source": [
        "# paketi yüklemek için\n",
        "install.packages(\"e1071\")\n",
        "# paketi aktif etmek için\n",
        "library(e1071)\n",
        "# svm fonksiyonuna erişmek için\n",
        "model <- e1071::svm(x = iris)"
      ],
      "metadata": {
        "colab": {
          "base_uri": "https://localhost:8080/",
          "height": 610
        },
        "id": "5HX9JfuKh5wN",
        "outputId": "d250800f-776c-4a77-87d8-71389a4c6194"
      },
      "execution_count": 35,
      "outputs": [
        {
          "output_type": "stream",
          "name": "stderr",
          "text": [
            "Installing package into ‘/usr/local/lib/R/site-library’\n",
            "(as ‘lib’ is unspecified)\n",
            "\n",
            "Warning message in FUN(newX[, i], ...):\n",
            "“NAs introduced by coercion”\n"
          ]
        },
        {
          "output_type": "error",
          "ename": "ERROR",
          "evalue": "Error in if (any(co)) {: missing value where TRUE/FALSE needed\n",
          "traceback": [
            "Error in if (any(co)) {: missing value where TRUE/FALSE needed\nTraceback:\n",
            "1. svm.default(x = iris)",
            "2. .handleSimpleError(function (cnd) \n . {\n .     watcher$capture_plot_and_output()\n .     cnd <- sanitize_call(cnd)\n .     watcher$push(cnd)\n .     switch(on_error, continue = invokeRestart(\"eval_continue\"), \n .         stop = invokeRestart(\"eval_stop\"), error = invokeRestart(\"eval_error\", \n .             cnd))\n . }, \"missing value where TRUE/FALSE needed\", base::quote(if (any(co)) {\n .     warning(paste(\"Variable(s)\", paste(sQuote(colnames(x[, scale, \n .         drop = FALSE])[co]), sep = \"\", collapse = \" and \"), \"constant. Cannot scale data.\"))\n .     scale <- rep(FALSE, ncol(x))\n . } else {\n .     xtmp <- scale_data_frame(x[, scale])\n .     x[, scale] <- xtmp\n .     x.scale <- attributes(xtmp)[c(\"scaled:center\", \"scaled:scale\")]\n .     if (is.numeric(y) && (type > 2)) {\n .         yorig <- y\n .         y <- scale(y)\n .         y.scale <- attributes(y)[c(\"scaled:center\", \"scaled:scale\")]\n .         y <- as.vector(y)\n .     }\n . }))"
          ]
        }
      ]
    },
    {
      "cell_type": "markdown",
      "source": [
        "# Soru 15 - R için çalışma alanı  olarak `C:/Test/` dizinini tanımlayınız.\n",
        "\n",
        "R'da çalışma alanı tanımlamak için setwd fonksiyonu kullanılır.\n",
        "\n",
        "> `setwd(\"C:/Test/\")`\n",
        "\n",
        "aşağıdaki fonksiyon ile de çalışma alanı görüntülenebilir.\n",
        "\n",
        "> `getwd()`"
      ],
      "metadata": {
        "id": "MZkdqJ9Hmeyk"
      }
    }
  ]
}